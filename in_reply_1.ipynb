{
 "cells": [
  {
   "cell_type": "code",
   "execution_count": null,
   "metadata": {},
   "outputs": [],
   "source": [
    "curated_list = ['@AwkwardRambler','@AngryBlackN8V',\n",
    "                '@Pandabbadon', '@LammaticHama','@DeadDogLake',\n",
    "                '@cricketcrocker','@devilishgrin000','@LowArctic',\n",
    "                '@ChelseyMooner','@akayatuk','@nativeopinion',\n",
    "                '@BadSalishHeart','@joyem_braun','@RuthH_Hopkins',\n",
    "                '@brettachapman','@NativeApprops','@Pam_Palmater',\n",
    "                '@AzieDee','@BigIndianGyasi','@RoanhorseBex',\n",
    "                '@Leave_Matoaka','@ZoeSTodd',\n",
    "                '@notvanishing','@Dallas_Hunt','@justicedanielh',\n",
    "                '@WordsandGuitar','@tuckeve','@tagaq',\n",
    "                '@TanyaTalaga','@Hayden_King','@gindaanis',\n",
    "                '@antalalakam','@dearnonnatives','@VinceSchilling',\n",
    "                '@DelSchilling','@LowaBeebe',\n",
    "                '@llewellynjobs','@DaveAlexRoberts','SaltyLilOjibwe',\n",
    "                '@DarrylLeroux','@mredshirtshaw','@mors_lakota',\n",
    "                '@Ruth4Nd','@Indigenia','@ItazipcoLakota',\n",
    "                '@ryanredcorn','@KimTallBear','@tanayawinder',\n",
    "                '@shotheekwe',\n",
    "                '@msimmons444','@powhatannative','@aliwatson117',\n",
    "                '@jfkeeler','@ThunderingElks',\n",
    "                '@FrankWaln','@AgentNdn','@DeLesslin',]"
   ]
  },
  {
   "cell_type": "code",
   "execution_count": null,
   "metadata": {},
   "outputs": [],
   "source": [
    "scholarly_list = ['@justicedanielh',]"
   ]
  }
 ],
 "metadata": {
  "kernelspec": {
   "display_name": "Python 3",
   "language": "python",
   "name": "python3"
  },
  "language_info": {
   "codemirror_mode": {
    "name": "ipython",
    "version": 3
   },
   "file_extension": ".py",
   "mimetype": "text/x-python",
   "name": "python",
   "nbconvert_exporter": "python",
   "pygments_lexer": "ipython3",
   "version": "3.6.3"
  }
 },
 "nbformat": 4,
 "nbformat_minor": 2
}
