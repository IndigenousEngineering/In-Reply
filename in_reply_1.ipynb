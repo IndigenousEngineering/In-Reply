{
 "cells": [
  {
   "cell_type": "code",
   "execution_count": 5,
   "metadata": {},
   "outputs": [],
   "source": [
    "curated_list = ['@AwkwardRambler','@AngryBlackN8V',\n",
    "                '@Pandabbadon', '@LammaticHama','@DeadDogLake',\n",
    "                '@cricketcrocker','@devilishgrin000','@LowArctic',\n",
    "                '@ChelseyMooner','@akayatuk','@nativeopinion',\n",
    "                '@BadSalishHeart','@joyem_braun','@RuthH_Hopkins',\n",
    "                '@brettachapman','@NativeApprops','@Pam_Palmater',\n",
    "                '@AzieDee','@BigIndianGyasi','@RoanhorseBex',\n",
    "                '@Leave_Matoaka','@ZoeSTodd',\n",
    "                '@notvanishing','@Dallas_Hunt','@justicedanielh',\n",
    "                '@WordsandGuitar','@tuckeve','@tagaq',\n",
    "                '@TanyaTalaga','@Hayden_King','@gindaanis',\n",
    "                '@antalalakam','@dearnonnatives','@VinceSchilling',\n",
    "                '@DelSchilling','@LowaBeebe',\n",
    "                '@llewellynjobs','@DaveAlexRoberts','SaltyLilOjibwe',\n",
    "                '@DarrylLeroux','@mredshirtshaw','@mors_lakota',\n",
    "                '@Ruth4Nd','@Indigenia','@ItazipcoLakota',\n",
    "                '@ryanredcorn','@KimTallBear','@tanayawinder',\n",
    "                '@shotheekwe',\n",
    "                '@msimmons444','@powhatannative','@aliwatson117',\n",
    "                '@jfkeeler','@ThunderingElks',\n",
    "                '@FrankWaln','@AgentNdn','@DeLesslin',]"
   ]
  },
  {
   "cell_type": "code",
   "execution_count": 6,
   "metadata": {},
   "outputs": [
    {
     "name": "stdout",
     "output_type": "stream",
     "text": [
      "57\n"
     ]
    }
   ],
   "source": [
    "print(len(curated_list))"
   ]
  },
  {
   "cell_type": "code",
   "execution_count": 7,
   "metadata": {},
   "outputs": [],
   "source": [
    "# @justicedanielh, @KimTallBear on curated list also\n",
    "\n",
    "scholar_list = ['@justicedanielh', '@PepePierce', '@pollysgdaughter', '@rebeccanagle', '@KimTallBear']"
   ]
  },
  {
   "cell_type": "code",
   "execution_count": 3,
   "metadata": {},
   "outputs": [],
   "source": [
    "def get_tweet_object(search_term, start_date, end_date, num_of_tweets, include_retweets=True):\n",
    "    \n",
    "    '''\n",
    "    takes date range, screen name & number of tweets\n",
    "    \n",
    "    search returns replies to input screen name\n",
    "    \n",
    "    returns tweets object\n",
    "    \n",
    "    input search term as a string\n",
    "    \n",
    "    input search range as datetime.datetime(20xx, 1, 20)\n",
    "    \n",
    "    include_retweets defaults is True. to exclude retweets set to False.\n",
    "    \n",
    "    '''\n",
    "    \n",
    "    \n",
    "    search_args = searchtweets.load_credentials('twitter_keys.yaml',\n",
    "                                                yaml_key='search_tweets_api',\n",
    "                                                env_overwrite=False)\n",
    "    \n",
    "    if include_retweets:\n",
    "        \n",
    "        search_term = search_term + ' lang:en'\n",
    "    \n",
    "    else:\n",
    "        \n",
    "        search_term = search_term + ' lang:en -is:retweet'\n",
    "        \n",
    "    \n",
    "    \n",
    "    rule = searchtweets.gen_rule_payload(search_term,\n",
    "                                         results_per_call=500,\n",
    "                                         from_date=start_date.strftime('%Y-%m-%d'),\n",
    "                                         to_date=end_date.strftime('%Y-%m-%d'))     \n",
    "        \n",
    "    tweet_objects = []\n",
    "    \n",
    "    rs = searchtweets.ResultStream(rule_payload=rule,\n",
    "                                   max_results=num_of_tweets,\n",
    "                                   max_pages= num_of_tweets / 500,\n",
    "                                   **search_args)\n",
    "    \n",
    "    start_time = time.time()\n",
    "\n",
    "    for i, tweet_object in enumerate(rs.stream(), start=1):\n",
    "        \n",
    "        if i % 500 == 0:\n",
    "            \n",
    "            now = time.time()\n",
    "            \n",
    "            if now < start_time + 4:\n",
    "                \n",
    "                time.sleep(4 - (now - start_time))\n",
    "                \n",
    "                start_time = time.time()\n",
    "                \n",
    "        tweet_objects.append(tweet_object)\n",
    "    \n",
    "    return tweet_objects\n",
    "\n",
    "def tweet_obj_to_df(tweet_objects):\n",
    "    \n",
    "    tweet_dict = {'text': [],\n",
    "                  'author': []\n",
    "                 }\n",
    "    \n",
    "    for tweet in tweet_objects:\n",
    "        \n",
    "        tweet_dict['text'].append(tweet.all_text)\n",
    "        \n",
    "        tweet_dict['author'].append(tweet.screen_name)\n",
    "    \n",
    "    tweets_df = pd.DataFrame(tweet_dict)\n",
    "    \n",
    "    return tweets_df"
   ]
  },
  {
   "cell_type": "code",
   "execution_count": null,
   "metadata": {},
   "outputs": [],
   "source": []
  }
 ],
 "metadata": {
  "kernelspec": {
   "display_name": "Python 3",
   "language": "python",
   "name": "python3"
  },
  "language_info": {
   "codemirror_mode": {
    "name": "ipython",
    "version": 3
   },
   "file_extension": ".py",
   "mimetype": "text/x-python",
   "name": "python",
   "nbconvert_exporter": "python",
   "pygments_lexer": "ipython3",
   "version": "3.6.3"
  }
 },
 "nbformat": 4,
 "nbformat_minor": 2
}
